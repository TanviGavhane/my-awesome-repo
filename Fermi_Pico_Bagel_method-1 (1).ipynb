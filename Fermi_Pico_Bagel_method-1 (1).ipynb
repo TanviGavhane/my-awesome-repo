{
 "cells": [
  {
   "cell_type": "markdown",
   "id": "0b55c9a8",
   "metadata": {},
   "source": [
    "## Fermi Pico Bagel\n",
    "Try playing game and understand the rules : https://communicrossings.com/html/js/pfb.htm\n",
    "\n",
    "## Step 1\n",
    "Store any number(number to be guessed by player) in a variable `original_number`.\n"
   ]
  },
  {
   "cell_type": "code",
   "execution_count": 1,
   "id": "57a0a2d0",
   "metadata": {},
   "outputs": [],
   "source": [
    "## Your code goes here\n",
    "original_number=234"
   ]
  },
  {
   "cell_type": "markdown",
   "id": "fd43340c",
   "metadata": {},
   "source": [
    "## Step 2\n",
    "Take a number as user input and save it in a variable `guess_number`.(Remember that datatype of input will be string so convert it into integer.)"
   ]
  },
  {
   "cell_type": "code",
   "execution_count": 2,
   "id": "2e0075a7",
   "metadata": {},
   "outputs": [
    {
     "name": "stdout",
     "output_type": "stream",
     "text": [
      "123\n"
     ]
    }
   ],
   "source": [
    "## Your code goes here \n",
    "guess_number=input()"
   ]
  },
  {
   "cell_type": "markdown",
   "id": "22318243",
   "metadata": {},
   "source": [
    "## Step 3\n",
    "Check if total number of digits in `original_number` and `guess_number` is not same(Use `len()` function) then ask user for valid input.(First convert number into string then use `len()` to get total digits in `original_number` and `guess_number`.)"
   ]
  },
  {
   "cell_type": "code",
   "execution_count": 3,
   "id": "258e2971",
   "metadata": {},
   "outputs": [
    {
     "name": "stdout",
     "output_type": "stream",
     "text": [
      "valid input\n"
     ]
    }
   ],
   "source": [
    "## Your code goes here\n",
    "a=str(original_number)\n",
    "b=str(guess_number)\n",
    "if len(a)==len(b):\n",
    "    print('valid input')\n",
    "else:\n",
    "    print('Enter a valid number')"
   ]
  },
  {
   "cell_type": "markdown",
   "id": "0c064bda",
   "metadata": {},
   "source": [
    "## Step 4\n",
    "Using `set()`, check if the digits are repeated in a `guess_number` .\n",
    "Note that datatype `set` allows unique values only.\n",
    "\n",
    "For ex. if `user_input`is 122, then it should print the string 'Duplicate number'  as digit 2 is repeated."
   ]
  },
  {
   "cell_type": "code",
   "execution_count": 7,
   "id": "7b5ef10d",
   "metadata": {},
   "outputs": [
    {
     "name": "stdout",
     "output_type": "stream",
     "text": [
      "valid input\n"
     ]
    }
   ],
   "source": [
    "## Your code goes here \n",
    "if len(set(b))!=len(a):\n",
    "     print('invalid input')\n",
    "      \n",
    "else:\n",
    "    print('valid input')\n",
    "    "
   ]
  },
  {
   "cell_type": "markdown",
   "id": "0514b8d9",
   "metadata": {},
   "source": [
    "## Step 5\n",
    "Check winning condition i.e. if both `guess_number` and `original_number` are same, then print 'Fermi' as many number of times as number of digits in a number and print ' You win !! '.\n"
   ]
  },
  {
   "cell_type": "code",
   "execution_count": 8,
   "id": "ab9379a5",
   "metadata": {},
   "outputs": [],
   "source": [
    "## Your code goes here \n",
    "if guess_number==original_number:\n",
    "    print('Fermi'* len(original_number))"
   ]
  },
  {
   "cell_type": "markdown",
   "id": "96eca378",
   "metadata": {},
   "source": [
    "## Step 6\n",
    "Create empty list called `output` where we will store the output in the form of list.\n",
    "\n",
    "For example: output = [ ' Fermi ', ' Pico ' ,' Pico ' ] ."
   ]
  },
  {
   "cell_type": "code",
   "execution_count": 9,
   "id": "c047a839",
   "metadata": {},
   "outputs": [],
   "source": [
    "## Your code goes here \n",
    "output=[]"
   ]
  },
  {
   "cell_type": "markdown",
   "id": "4949309d",
   "metadata": {},
   "source": [
    "## Step 7\n",
    "Check if any digit and it's position in both `guess_number` and `original_number` are same then append 'Fermi' to `output` list or if only digit matches and not the position then append 'Pico' to `output`.\n"
   ]
  },
  {
   "cell_type": "code",
   "execution_count": 10,
   "id": "0b4e0802",
   "metadata": {},
   "outputs": [
    {
     "data": {
      "text/plain": [
       "('234', '123')"
      ]
     },
     "execution_count": 10,
     "metadata": {},
     "output_type": "execute_result"
    }
   ],
   "source": [
    "a,b"
   ]
  },
  {
   "cell_type": "code",
   "execution_count": 11,
   "id": "ab5e32eb",
   "metadata": {
    "scrolled": true
   },
   "outputs": [
    {
     "name": "stdout",
     "output_type": "stream",
     "text": [
      "0 10\n",
      "1 20\n",
      "2 30\n",
      "3 40\n",
      "4 50\n"
     ]
    }
   ],
   "source": [
    "li = [10, 20, 30, 40, 50]\n",
    "\n",
    "for i in range(len(li)):\n",
    "    print(i, li[i])"
   ]
  },
  {
   "cell_type": "code",
   "execution_count": 12,
   "id": "7dbe3800",
   "metadata": {},
   "outputs": [
    {
     "name": "stdout",
     "output_type": "stream",
     "text": [
      "['Pico', 'Pico']\n"
     ]
    }
   ],
   "source": [
    "## Your code goes here \n",
    "for i in range(len(a)):\n",
    "    if (a[i]==b[i]): #  if Position and digit are same\n",
    "        output.append('Fermi')\n",
    "        \n",
    "    elif a[i] in b: # if digits are same but position does not matter\n",
    "        output.append('Pico')\n",
    "        \n",
    "print(output)\n",
    "        \n",
    "        \n",
    "    \n",
    "        "
   ]
  },
  {
   "cell_type": "markdown",
   "id": "59e62457",
   "metadata": {},
   "source": [
    "## Step 8\n",
    "Define a variable called `output_string` which has all values from a list `output` with each value separated by space. (Use 'for' loop to get all the values from a list `output`.)"
   ]
  },
  {
   "cell_type": "code",
   "execution_count": 13,
   "id": "d15c8f60",
   "metadata": {},
   "outputs": [
    {
     "name": "stdout",
     "output_type": "stream",
     "text": [
      "Pico Pico \n"
     ]
    }
   ],
   "source": [
    "## Your code goes here \n",
    "output_string=''\n",
    "for i in output:\n",
    "    output_string= output_string+i+' '\n",
    "\n",
    "print(output_string)"
   ]
  },
  {
   "cell_type": "markdown",
   "id": "f3f50bef",
   "metadata": {},
   "source": [
    "## Step 9\n",
    "Check if neither any digit nor any position matches i.e. if length of `output` list is zero then print `Bagel`.\n",
    "\n",
    "Otherwise print `output_string`."
   ]
  },
  {
   "cell_type": "code",
   "execution_count": 14,
   "id": "3c568356",
   "metadata": {},
   "outputs": [
    {
     "name": "stdout",
     "output_type": "stream",
     "text": [
      "Pico Pico \n"
     ]
    }
   ],
   "source": [
    "## Your code goes here \n",
    "if len(output)=='0':\n",
    "    print(Bagel)\n",
    "else:\n",
    "    print(output_string)"
   ]
  },
  {
   "cell_type": "markdown",
   "id": "9d4a684d",
   "metadata": {},
   "source": [
    "## Step 10\n",
    "\n",
    "## Complete game\n",
    "Here use continue and break statements at appropriate places."
   ]
  },
  {
   "cell_type": "code",
   "execution_count": 37,
   "id": "79843cdf",
   "metadata": {},
   "outputs": [
    {
     "name": "stdout",
     "output_type": "stream",
     "text": [
      "how many digits you want 3\n",
      "835\n",
      "129\n",
      "Bagel\n",
      "835\n",
      "Fermi Fermi Fermi \n"
     ]
    }
   ],
   "source": [
    "n=int(input('how many digits you want '))\n",
    "m=[1,2,3,4,5,6,7,8,9]\n",
    "original_number=set()\n",
    "while len(original_number)!=n:\n",
    "    original_number.add(random.choice(m))\n",
    "    \n",
    "# print(list(set(original_number)))\n",
    "k=\"\"\n",
    "for j in list(original_number):\n",
    "    k=k+str(j)\n",
    "print(k)\n",
    "    \n",
    "\n",
    "\n",
    "while(True):        \n",
    "        guess_number=input()\n",
    "        output=[]\n",
    "        a=str(k)\n",
    "        b=str(guess_number)\n",
    "        if len(set(b))!=len(a):\n",
    "            print('invalid input')\n",
    "            continue\n",
    "#         else:\n",
    "#             print('valid input')\n",
    "        if a==b:\n",
    "            print('Fermi '* len(a))\n",
    "            break\n",
    "\n",
    "        for i in range(len(a)):\n",
    "            if (a[i]==b[i]): #  if Position and digit are same\n",
    "                output.append('Fermi')\n",
    "            elif a[i] in b: # if digits are same but position does not matter\n",
    "                output.append('Pico')\n",
    "        output_string=''\n",
    "        for i in output:\n",
    "            output_string= output_string+i+' '\n",
    "        if len(output)==0:\n",
    "            print('Bagel')\n",
    "        else:\n",
    "            print(output_string)"
   ]
  },
  {
   "cell_type": "code",
   "execution_count": 16,
   "id": "8e2e2f2a",
   "metadata": {},
   "outputs": [
    {
     "data": {
      "text/plain": [
       "{'1', '2', '3'}"
      ]
     },
     "execution_count": 16,
     "metadata": {},
     "output_type": "execute_result"
    }
   ],
   "source": [
    "set('123123')"
   ]
  },
  {
   "cell_type": "code",
   "execution_count": 17,
   "id": "6c74083a",
   "metadata": {},
   "outputs": [
    {
     "name": "stdout",
     "output_type": "stream",
     "text": [
      "4\n"
     ]
    }
   ],
   "source": [
    "import random\n",
    "a=random.randint(1,4)\n",
    "print(a)"
   ]
  },
  {
   "cell_type": "code",
   "execution_count": 12,
   "id": "1364e466",
   "metadata": {},
   "outputs": [
    {
     "name": "stdout",
     "output_type": "stream",
     "text": [
      "how many digits you want 4\n",
      "[6, 2, 6, 1]\n"
     ]
    }
   ],
   "source": [
    "import random\n",
    "#x=input('do you want to allow zero? ')\n",
    "\n",
    "\n",
    "n=int(input('how many digits you want '))\n",
    "m=[1,2,3,4,5,6,7,8,9]\n",
    "original_number=[]\n",
    "for i in range(0,n):\n",
    "    original_number.append(random.choice(m))\n",
    "    \n",
    "print(original_number)              "
   ]
  },
  {
   "cell_type": "code",
   "execution_count": 28,
   "id": "71cd3b12",
   "metadata": {},
   "outputs": [
    {
     "name": "stdout",
     "output_type": "stream",
     "text": [
      "[0, 1, 2]\n"
     ]
    }
   ],
   "source": [
    "m=[]\n",
    "for i in range(0,3):\n",
    "    m.append(i)\n",
    "print(m)\n"
   ]
  },
  {
   "cell_type": "code",
   "execution_count": 31,
   "id": "8b47b8c6",
   "metadata": {},
   "outputs": [
    {
     "name": "stdout",
     "output_type": "stream",
     "text": [
      "how many digits you want 5\n",
      "12345\n"
     ]
    }
   ],
   "source": [
    "n=int(input('how many digits you want '))\n",
    "m=[1,2,3,4,5,6,7,8,9]\n",
    "original_number=set()\n",
    "while len(original_number)!=n:\n",
    "    original_number.add(random.choice(m))\n",
    "    \n",
    "# print(list(set(original_number)))\n",
    "k=\"\"\n",
    "for j in list(original_number):\n",
    "    k=k+str(j)\n",
    "print(k)\n",
    "    \n",
    "\n",
    "# \"\".join(list(map(str,original_number)))"
   ]
  },
  {
   "cell_type": "code",
   "execution_count": null,
   "id": "c35d7ded",
   "metadata": {},
   "outputs": [],
   "source": []
  }
 ],
 "metadata": {
  "kernelspec": {
   "display_name": "Python 3 (ipykernel)",
   "language": "python",
   "name": "python3"
  },
  "language_info": {
   "codemirror_mode": {
    "name": "ipython",
    "version": 3
   },
   "file_extension": ".py",
   "mimetype": "text/x-python",
   "name": "python",
   "nbconvert_exporter": "python",
   "pygments_lexer": "ipython3",
   "version": "3.9.7"
  }
 },
 "nbformat": 4,
 "nbformat_minor": 5
}
